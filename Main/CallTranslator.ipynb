{
 "cells": [
  {
   "cell_type": "markdown",
   "metadata": {},
   "source": [
    "# Call Translator\n",
    "### To translate international conversations"
   ]
  },
  {
   "cell_type": "markdown",
   "metadata": {},
   "source": [
    "### By Sarthak Shukla"
   ]
  },
  {
   "cell_type": "markdown",
   "metadata": {},
   "source": [
    "Importing Required Directories"
   ]
  },
  {
   "cell_type": "code",
   "execution_count": 1,
   "metadata": {},
   "outputs": [],
   "source": [
    "import speech_recognition as sr"
   ]
  },
  {
   "cell_type": "code",
   "execution_count": 2,
   "metadata": {},
   "outputs": [
    {
     "data": {
      "text/plain": [
       "'3.8.1'"
      ]
     },
     "execution_count": 2,
     "metadata": {},
     "output_type": "execute_result"
    }
   ],
   "source": [
    "sr.__version__"
   ]
  },
  {
   "cell_type": "markdown",
   "metadata": {},
   "source": [
    "#### Reading an Audio File in Python"
   ]
  },
  {
   "cell_type": "code",
   "execution_count": 3,
   "metadata": {},
   "outputs": [],
   "source": [
    "r=sr.Recognizer()"
   ]
  },
  {
   "cell_type": "markdown",
   "metadata": {},
   "source": [
    "### BCP-47 Language Tags\n",
    "Afrikaans af\n",
    "\n",
    "Basque eu\n",
    "\n",
    "Bulgarian bg\n",
    "\n",
    "Catalan ca\n",
    "\n",
    "Arabic (UAE) ar-AE\n",
    "\n",
    "Czech cs\n",
    "\n",
    "Dutch nl-NL\n",
    "\n",
    "English(US) en-US\n",
    "\n",
    "Finnish fi\n",
    "\n",
    "French fr-FR\n",
    "\n",
    "German de-DE\n",
    "\n",
    "Hindi hi-IN\n",
    "\n",
    "Hungarian hu\n",
    "\n",
    "Italian it-IT\n",
    "\n",
    "Indonesian id\n",
    "\n",
    "Japanese ja\n",
    "\n",
    "Korean ko\n",
    "\n",
    "Latin la\n",
    "\n",
    "Mandarin Chinese zh-CN\n",
    "\n",
    "Norwegian no-NO\n",
    "\n",
    "Polish pl\n",
    "\n",
    "Portuguese pt-PT\n",
    "\n",
    "Romanian ro-RO\n",
    "\n",
    "Russian ru\n",
    "\n",
    "Spanish es-MX\n",
    "\n",
    "Swedish sv-SE\n",
    "\n",
    "Turkish tr\n",
    "\n",
    "Zulu zu"
   ]
  },
  {
   "cell_type": "code",
   "execution_count": 28,
   "metadata": {
    "scrolled": true
   },
   "outputs": [
    {
     "name": "stdout",
     "output_type": "stream",
     "text": [
      "Enter the BCP-47 code of your language \n",
      "en-US\n"
     ]
    }
   ],
   "source": [
    "print(\"Enter the BCP-47 code of your language \")\n",
    "ip=input()"
   ]
  },
  {
   "cell_type": "markdown",
   "metadata": {},
   "source": [
    "#### Capturing data with record()"
   ]
  },
  {
   "cell_type": "code",
   "execution_count": 29,
   "metadata": {},
   "outputs": [],
   "source": [
    "demo=sr.AudioFile('demo.wav')"
   ]
  },
  {
   "cell_type": "code",
   "execution_count": 30,
   "metadata": {},
   "outputs": [],
   "source": [
    "with demo as source:\n",
    "       audio=r.record(source)"
   ]
  },
  {
   "cell_type": "markdown",
   "metadata": {},
   "source": [
    "#### Recognizing Speech in the Audio"
   ]
  },
  {
   "cell_type": "code",
   "execution_count": 39,
   "metadata": {
    "scrolled": true
   },
   "outputs": [],
   "source": [
    "a=r.recognize_google(audio, language=ip) # using google api "
   ]
  },
  {
   "cell_type": "markdown",
   "metadata": {},
   "source": [
    "Converting speech to text... -"
   ]
  },
  {
   "cell_type": "code",
   "execution_count": 32,
   "metadata": {
    "scrolled": true
   },
   "outputs": [
    {
     "data": {
      "text/plain": [
       "'perched new Swift on the smooth bike seat without play background editor with observable Tuesday it came like a river Rises Aasan search in Rampur to choose of lemons makes find the passport on the side of the how to search quilling art for the study workspaces was nice talking is hard stuff'"
      ]
     },
     "execution_count": 32,
     "metadata": {},
     "output_type": "execute_result"
    }
   ],
   "source": [
    "a"
   ]
  },
  {
   "cell_type": "markdown",
   "metadata": {},
   "source": [
    "#### Translating the language"
   ]
  },
  {
   "cell_type": "code",
   "execution_count": 33,
   "metadata": {},
   "outputs": [],
   "source": [
    "from translate import Translator"
   ]
  },
  {
   "cell_type": "code",
   "execution_count": 34,
   "metadata": {},
   "outputs": [],
   "source": [
    "class clsTranslate():\n",
    "    def translateText(self, strString, strTolang):\n",
    "        self.strString = strString\n",
    "        self.strTolang = strTolang\n",
    "        translator = Translator(to_lang=self.strTolang)\n",
    "        translation = translator.translate(self.strString)\n",
    "        return (str(translation))"
   ]
  },
  {
   "cell_type": "markdown",
   "metadata": {},
   "source": [
    "### ISO 639-1 Language Codes"
   ]
  },
  {
   "cell_type": "markdown",
   "metadata": {},
   "source": [
    "<img src='Capture.jpg'>"
   ]
  },
  {
   "cell_type": "code",
   "execution_count": 35,
   "metadata": {
    "scrolled": false
   },
   "outputs": [
    {
     "name": "stdout",
     "output_type": "stream",
     "text": [
      "Enter the result language ISO 639-1 to transaltion \n",
      "ru\n"
     ]
    }
   ],
   "source": [
    "print(\"Enter the result language ISO 639-1 to transaltion \")\n",
    "lang=input()"
   ]
  },
  {
   "cell_type": "code",
   "execution_count": 36,
   "metadata": {},
   "outputs": [
    {
     "data": {
      "text/plain": [
       "'ru'"
      ]
     },
     "execution_count": 36,
     "metadata": {},
     "output_type": "execute_result"
    }
   ],
   "source": [
    "lang"
   ]
  },
  {
   "cell_type": "code",
   "execution_count": 41,
   "metadata": {
    "scrolled": true
   },
   "outputs": [],
   "source": [
    "# Create a Class object and call the Translate function\n",
    "\n",
    "objTrans=clsTranslate()\n",
    "strTranslatedText=objTrans.translateText(a,lang)"
   ]
  },
  {
   "cell_type": "markdown",
   "metadata": {},
   "source": [
    "#### The final translated text is-"
   ]
  },
  {
   "cell_type": "code",
   "execution_count": 38,
   "metadata": {
    "scrolled": false
   },
   "outputs": [
    {
     "name": "stdout",
     "output_type": "stream",
     "text": [
      "Разместил новый Swift на гладком велосипедном сиденье без редактора фоновых игр с заметным вторником. Появился он как река. Возвышение Аасан в Рампуре, чтобы выбрать лимоны, заставляет найти паспорт на стороне того, как искать искусство квиллинга для учебных рабочих мест было приятно говорить это тяжелые вещи\n"
     ]
    }
   ],
   "source": [
    "print(strTranslatedText)"
   ]
  },
  {
   "cell_type": "markdown",
   "metadata": {},
   "source": [
    "Here we perfomed a translation by first taking speech input from one user to convert it into text, \n",
    "then translating it to other language as requested by the other user and providing the end translation"
   ]
  }
 ],
 "metadata": {
  "kernelspec": {
   "display_name": "Python 3",
   "language": "python",
   "name": "python3"
  },
  "language_info": {
   "codemirror_mode": {
    "name": "ipython",
    "version": 3
   },
   "file_extension": ".py",
   "mimetype": "text/x-python",
   "name": "python",
   "nbconvert_exporter": "python",
   "pygments_lexer": "ipython3",
   "version": "3.7.4"
  }
 },
 "nbformat": 4,
 "nbformat_minor": 2
}
